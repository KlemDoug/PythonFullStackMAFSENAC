{
  "cells": [
    {
      "cell_type": "markdown",
      "metadata": {
        "id": "oTMMKW4U4H7b"
      },
      "source": [
        "# Guia de Estudo da Aula 7: Dominando o Teste de Mesa"
      ]
    },
    {
      "cell_type": "markdown",
      "metadata": {
        "id": "lpQd97Ej4H7d"
      },
      "source": [
        "---\n",
        "\n",
        "### **Parte 1: Entendendo os Conceitos**\n",
        "\n",
        "Imagine que você recebeu uma receita de bolo. Antes de começar a misturar os ingredientes, você provavelmente lê a receita inteira, passo a passo, para ter certeza de que entendeu tudo, certo? Na programação, fazemos algo muito parecido. Essa \"leitura técnica\" de um código é o que chamamos de **Teste de Mesa**.\n",
        "\n",
        "#### **O que é o Teste de Mesa?**\n",
        "\n",
        "É uma técnica onde você simula a execução de um programa manualmente, linha por linha. Você se torna o \"processador\" do computador, acompanhando cada instrução e anotando o que acontece com as variáveis.\n",
        "\n",
        "Para fazer isso de forma organizada, usamos uma tabela simples. Veja um modelo:\n",
        "\n",
        "| Linha | Variável A | Variável B | Condição Testada | Saída na Tela (console.log) |\n",
        "| :---: | :---: | :---: | :---: | :---: |\n",
        "|       |       |       |       |       |\n",
        "|       |       |       |       |       |\n",
        "\n",
        "#### **Por que isso é tão importante?**\n",
        "\n",
        "1.  **Para encontrar erros:** Muitas vezes, um código parece certo, mas a lógica está errada. O teste de mesa ajuda a encontrar esses erros antes de perder tempo executando e depurando.\n",
        "2.  **Para entender de verdade:** Ajuda a fixar como laços de repetição (`for`, `while`) e condicionais (`if/else`) realmente funcionam.\n",
        "3.  **Para pensar como um programador:** Esta é uma habilidade essencial. Programadores experientes fazem testes de mesa mentalmente o tempo todo para validar suas ideias."
      ]
    },
    {
      "cell_type": "markdown",
      "metadata": {
        "id": "6Vfh0ok-4H7d"
      },
      "source": [
        "---\n",
        "\n",
        "### **Parte 2: Um Teste de Mesa Juntos**\n",
        "\n",
        "Vamos analisar um exemplo e preencher a tabela para entender o processo na prática.\n",
        "\n",
        "**Código de Exemplo:**"
      ]
    },
    {
      "cell_type": "code",
      "execution_count": null,
      "metadata": {
        "id": "auvBd0uP4H7d"
      },
      "outputs": [],
      "source": [
        "let limite = 5;\n",
        "let contador = 1;\n",
        "let soma = 0;\n",
        "\n",
        "while (contador <= limite) {\n",
        "  soma = soma + contador;\n",
        "  console.log(\"Valor parcial da soma: \" + soma);\n",
        "  contador = contador + 1;\n",
        "}\n",
        "\n",
        "console.log(\"O valor final da soma é: \" + soma);"
      ]
    },
    {
      "cell_type": "markdown",
      "metadata": {
        "id": "xZHMI0UM4H7e"
      },
      "source": [
        "**Tabela de Execução (Teste de Mesa):**\n",
        "\n",
        "Durante a demonstração, acompanhe o preenchimento da tabela abaixo para ver como cada variável muda a cada passo que o programa executa.\n",
        "\n",
        "| Linha | limite | contador | soma | Condição (contador <= limite) | Saída na Tela |\n",
        "| :--- | :---: | :---: | :---: | :---: | :--- |\n",
        "| 1 | 5 | - | - | - | |\n",
        "| 2 | 5 | 1 | - | - | |\n",
        "| 3 | 5 | 1 | 0 | - | |\n",
        "| 5 | 5 | 1 | 0 | `1 <= 5` (Verdadeiro) | |\n",
        "| 6 | 5 | 1 | 1 | - | |\n",
        "| 7 | 5 | 1 | 1 | - | `Valor parcial da soma: 1` |\n",
        "| 8 | 5 | 2 | 1 | - | |\n",
        "| 5 | 5 | 2 | 1 | `2 <= 5` (Verdadeiro) | |\n",
        "| 6 | 5 | 2 | 3 | - | |\n",
        "| 7 | 5 | 2 | 3 | - | `Valor parcial da soma: 3` |\n",
        "| 8 | 5 | 3 | 3 | - | |\n",
        "| 5 | 5 | 3 | 3 | `3 <= 5` (Verdadeiro) | |\n",
        "| 6 | 5 | 3 | 6 | - | |\n",
        "| 7 | 5 | 3 | 6 | - | `Valor parcial da soma: 6` |\n",
        "| 8 | 5 | 4 | 6 | - | |\n",
        "| 5 | 5 | 4 | 6 | `4 <= 5` (Verdadeiro) | |\n",
        "| 6 | 5 | 4 | 10 | - | |\n",
        "| 7 | 5 | 4 | 10 | - | `Valor parcial da soma: 10` |\n",
        "| 8 | 5 | 5 | 10 | - | |\n",
        "| 5 | 5 | 5 | 10 | `5 <= 5` (Verdadeiro) | |\n",
        "| 6 | 5 | 5 | 15 | - | |\n",
        "| 7 | 5 | 5 | 15 | - | `Valor parcial da soma: 15` |\n",
        "| 8 | 5 | 6 | 15 | - | |\n",
        "| 5 | 5 | 6 | 15 | `6 <= 5` (Falso) → Sai do laço | |\n",
        "| 11 | 5 | 6 | 15 | - | `O valor final da soma é: 15` |"
      ]
    },
    {
      "cell_type": "markdown",
      "metadata": {
        "id": "woA-3ryd4H7e"
      },
      "source": [
        "---\n",
        "### **Parte 3: Seu Desafio - A Tarefa do Recrutador**\n",
        "\n",
        "Agora é a sua vez! Imagine que você está em um processo seletivo e um recrutador lhe entregou os códigos abaixo. Sua tarefa é realizar o teste de mesa para cada um deles.\n",
        "\n",
        "Para cada atividade, preencha a tabela de resposta linha por linha. Ao final, escreva qual será a saída exibida na tela. **Lembre-se: o desafio é fazer isso sem executar o código no computador!**"
      ]
    },
    {
      "cell_type": "markdown",
      "metadata": {
        "id": "VojXpeYX4H7e"
      },
      "source": [
        "#### **Atividade 1: Variáveis e Condicionais**"
      ]
    },
    {
      "cell_type": "code",
      "execution_count": null,
      "metadata": {
        "id": "x_TWrxwv4H7e"
      },
      "outputs": [],
      "source": [
        "let nome = \"Ana\";\n",
        "let idade = 25;\n",
        "let temCNH = false;\n",
        "\n",
        "if (idade >= 18 && temCNH == true) {\n",
        "  console.log(nome + \" pode dirigir.\");\n",
        "} else if (idade >= 18 && temCNH == false) {\n",
        "  console.log(nome + \" não pode dirigir, pois não tem CNH.\");\n",
        "} else {\n",
        "  console.log(nome + \" não pode dirigir, pois é menor de idade.\");\n",
        "}"
      ]
    },
    {
      "cell_type": "markdown",
      "metadata": {
        "id": "aHHz8siH4H7e"
      },
      "source": [
        "### Sua Resposta (Atividade 1)\n",
        "\n",
        "**Tabela de Teste:**\n",
        "\n",
        "| Linha | nome | idade | temCNH | Condição Testada | Saída na Tela |\n",
        "|:---:|:---:|:---:|:---:|:---:|:---|\n",
        "| 1   | `\"Ana\"` | -     | -      |                  |               |\n",
        "| 2   | `\"Ana\"` | 25    | -      |                  |               |\n",
        "| 3   | ... |       |        |                  |               |\n",
        "| 5   |     |       |        | `25 >= 18 && false == true` (Falso) | |\n",
        "| 7   |     |       |        | `25 >= 18 && false == false` (Verdadeiro) | |\n",
        "| ... |     |       |        |                  |               |\n",
        "\n",
        "**Saída Final na Tela:**\n",
        "\n",
        "*Escreva aqui o que você acha que vai aparecer*"
      ]
    },
    {
      "cell_type": "markdown",
      "metadata": {
        "id": "ls4OKJnm4H7e"
      },
      "source": [
        "---\n",
        "#### **Atividade 2: Laço `FOR` e Acumulador**"
      ]
    },
    {
      "cell_type": "code",
      "execution_count": null,
      "metadata": {
        "id": "IprB2t8g4H7e"
      },
      "outputs": [],
      "source": [
        "let total = 100;\n",
        "let descontos = 0;\n",
        "\n",
        "for (let i = 1; i < 5; i++) {\n",
        "  descontos = descontos + i * 5;\n",
        "  console.log(\"Desconto no passo \" + i + \": \" + (i * 5));\n",
        "}\n",
        "\n",
        "let valorFinal = total - descontos;\n",
        "console.log(\"Total de descontos: \" + descontos);\n",
        "console.log(\"Valor final a pagar: \" + valorFinal);"
      ]
    },
    {
      "cell_type": "markdown",
      "metadata": {
        "id": "rCtR02Cr4H7f"
      },
      "source": [
        "### Sua Resposta (Atividade 2)\n",
        "\n",
        "**Tabela de Teste:**\n",
        "\n",
        "| Linha | total | descontos | i | valorFinal | Condição (i < 5) | Saída na Tela |\n",
        "|:---:|:---:|:---:|:---:|:---:|:---:|:---|\n",
        "|     |     |           |   |            |                  |               |\n",
        "|     |     |           |   |            |                  |               |\n",
        "|     |     |           |   |            |                  |               |\n",
        "\n",
        "**Saída Final na Tela:**\n",
        "\n",
        "*Escreva aqui o que você acha que vai aparecer*"
      ]
    }
  ],
  "metadata": {
    "kernelspec": {
      "display_name": "Python 3",
      "language": "python",
      "name": "python3"
    },
    "language_info": {
      "codemirror_mode": {
        "name": "ipython",
        "version": 3
      },
      "file_extension": ".py",
      "mimetype": "text/x-python",
      "name": "python",
      "nbconvert_exporter": "python",
      "pygments_lexer": "ipython3",
      "version": "3.10.6"
    },
    "colab": {
      "provenance": [],
      "toc_visible": true
    }
  },
  "nbformat": 4,
  "nbformat_minor": 0
}