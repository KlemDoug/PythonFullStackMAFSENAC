{
 "cells": [
  {
   "cell_type": "markdown",
   "id": "9e5971f1",
   "metadata": {},
   "source": [
    "1. Soma de Matrizes:\n",
    "Crie duas matrizes 3x3 e escreva uma função para somá-las. A função deve retornar uma nova matriz com o resultado.\n",
    "\n",
    "2. Transposição de Matriz:\n",
    "Escreva uma função que receba uma matriz 3x3 e retorne sua transposta (troque linhas por colunas).\n",
    "\n",
    "3. Multiplicação de Matrizes:\n",
    "Crie duas matrizes 2x2 e escreva uma função para multiplicá-las.\n",
    "\n",
    "4. Jogo da Velha:\n",
    "Implemente um jogo da velha usando uma matriz 3x3. O programa deve permitir que dois jogadores façam jogadas alternadas e verifique se há um vencedor.\n",
    "\n",
    "5. Busca em Matriz:\n",
    "Escreva uma função que receba uma matriz e um número, e retorne a posição (linha e coluna) desse número na matriz. Se o número não estiver na matriz, retorne null.\n",
    "\n",
    "6. Matriz Identidade:\n",
    "Crie uma função que gere uma matriz identidade de tamanho NxN (uma matriz onde os elementos da diagonal principal são 1 e os demais são 0).\n",
    "\n",
    "7. Rotação de Matriz:\n",
    "Escreva uma função que rotacione uma matriz 3x3 em 90 graus no sentido horário.\n",
    "\n",
    "8. Soma das Bordas:\n",
    "Escreva uma função que calcule a soma dos elementos das bordas de uma matriz NxN."
   ]
  }
 ],
 "metadata": {
  "language_info": {
   "name": "python"
  }
 },
 "nbformat": 4,
 "nbformat_minor": 5
}
