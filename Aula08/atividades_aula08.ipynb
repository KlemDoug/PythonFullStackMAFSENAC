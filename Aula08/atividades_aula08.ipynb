{
 "cells": [
  {
   "cell_type": "markdown",
   "id": "3d191629",
   "metadata": {},
   "source": [
    "Imagine que você começou um novo trabalho e seu chefe te passou uma lista de pequenas tarefas repetitivas.\n",
    "Seu objetivo é criar uma função para cada uma delas.\n",
    "\n",
    "Tarefas:\n",
    "\n",
    "1. Criar um \"separador\" padrão: Crie uma função chamada mostrarLinha() que imprima no console uma linha com 20 traços (--------------------).\n",
    "\n",
    "2. Calcular bônus de funcionário: Crie uma função chamada calcularBonus(salario). Ela deve receber o salário de um funcionário como parâmetro. O bônus é sempre 10% do salário. A função deve retornar o valor do bônus calculado (salario * 0.10).\n",
    "\n",
    "3. Montar mensagem de boas-vindas: Crie uma função chamada gerarMensagemBoasVindas(nome, setor). Ela deve receber o nome e o setor de um novo funcionário e retornar uma string (texto) formatada, como: \"Bem-vindo(a), [Nome]! Você foi alocado(a) ao setor de [Setor].\".\n",
    "\n",
    "\n",
    "Depois de criar as três funções acima, escreva um código que:\n",
    "\n",
    "1. Chame mostrarLinha().\n",
    "\n",
    "2. Chame gerarMensagemBoasVindas() com os argumentos \"Ana\" e \"Tecnologia\". Guarde a mensagem retornada em uma variável e depois a imprima no console.\n",
    "\n",
    "3. Chame calcularBonus() com o argumento 5000 (representando um salário de R$5000). Guarde o valor retornado em uma variável e imprima uma mensagem como: \"O bônus para este funcionário será de R$ [valor do bônus].\".\n",
    "\n",
    "4. Chame mostrarLinha() novamente no final."
   ]
  },
  {
   "cell_type": "markdown",
   "id": "8e9040eb",
   "metadata": {},
   "source": []
  }
 ],
 "metadata": {
  "language_info": {
   "name": "python"
  }
 },
 "nbformat": 4,
 "nbformat_minor": 5
}
