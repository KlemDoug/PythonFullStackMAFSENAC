{
  "cells": [
    {
      "cell_type": "markdown",
      "metadata": {},
      "source": [
        "# Aula 03: Próximos Passos para a sua página web\n",
        "\n",
        "Nesta aula, nosso objetivo principal é finalizar a **home page** do projeto da empresa JWC. Para isso, vamos trabalhar com o seguinte:\n",
        "\n",
        "1. Aprofundar o uso de **CSS (Cascading Style Sheets)**.\n",
        "2. Adicionar recursos de **multimídia** como áudio, vídeo e mapas.\n",
        "3. Utilizar a tag `<a>` para criar links."
      ]
    },
    {
      "cell_type": "markdown",
      "metadata": {},
      "source": [
        "### Relembrando...\n",
        "\n",
        "O CSS é a ferramenta que dá vida e estilo à sua página. Ele controla cores, tamanhos, espaçamentos, fontes e muito mais. Existem três formas de aplicar CSS, e vamos entender as vantagens e desvantagens de cada uma.\n",
        "\n",
        "#### 1. CSS Inline\n",
        "\n",
        "Aplicado diretamente na tag HTML, usando o atributo `style`.\n",
        "\n",
        "**Vantagens:** É rápido e fácil de usar para pequenas alterações.\n",
        "**Desvantagens:** O código fica bagunçado e é difícil de manter. Não é uma boa prática para projetos maiores."
      ]
    },
    {
      "cell_type": "code",
      "execution_count": 116,
      "metadata": {},
      "outputs": [
        {
          "data": {
            "text/html": [
              "<h1 style=\"color: green; font-size: 24px;\">Bulbassauro, eu escolho você!</h1>\n"
            ],
            "text/plain": [
              "<IPython.core.display.HTML object>"
            ]
          },
          "metadata": {},
          "output_type": "display_data"
        }
      ],
      "source": [
        "%%html\n",
        "<h1 style=\"color: green; font-size: 24px;\">Bulbassauro, eu escolho você!</h1>"
      ]
    },
    {
      "cell_type": "markdown",
      "metadata": {},
      "source": [
        "#### 2. CSS Incorporado\n",
        "É inserido na seção `<head>` do seu documento HTML, dentro da tag `<style>`.\n",
        "\n",
        "**Vantagens:** Aplica estilos a todo o documento HTML, mantendo o código mais organizado.\n",
        "**Desvantagens:** Os estilos só funcionam para aquela página específica. Se você tiver várias páginas, terá que repetir o código."
      ]
    },
    {
      "cell_type": "code",
      "execution_count": 117,
      "metadata": {},
      "outputs": [
        {
          "data": {
            "text/html": [
              "<!DOCTYPE html>\n",
              "<html lang=\"pt-br\">\n",
              "<head>\n",
              "    <meta charset=\"UTF-8\">\n",
              "    <meta name=\"viewport\" content=\"width=device-width, initial-scale=1.0\">\n",
              "    <title>Minha Página</title>\n",
              "    <style>\n",
              "        h1 {\n",
              "            color: yellow;\n",
              "            font-size: 24px;\n",
              "        }\n",
              "    </style>\n",
              "</head>\n",
              "<body>\n",
              "    <h1>Olá, Mundo!</h1>\n",
              "</body>\n",
              "</html>\n"
            ],
            "text/plain": [
              "<IPython.core.display.HTML object>"
            ]
          },
          "metadata": {},
          "output_type": "display_data"
        }
      ],
      "source": [
        "%%html\n",
        "<!DOCTYPE html>\n",
        "<html lang=\"pt-br\">\n",
        "<head>\n",
        "    <meta charset=\"UTF-8\">\n",
        "    <meta name=\"viewport\" content=\"width=device-width, initial-scale=1.0\">\n",
        "    <title>Minha Página</title>\n",
        "    <style>\n",
        "        h1 {\n",
        "            color: yellow;\n",
        "            font-size: 24px;\n",
        "        }\n",
        "    </style>\n",
        "</head>\n",
        "<body>\n",
        "    <h1>Olá, Mundo!</h1>\n",
        "</body>\n",
        "</html>"
      ]
    },
    {
      "cell_type": "markdown",
      "metadata": {},
      "source": [
        "#### 3. CSS Externo (o mais recomendado!)\n",
        "\n",
        "É o padrão profissional de mercado. Nele, você cria um arquivo separado com a extensão `.css` (ex: `style.css`) e o vincula ao seu documento HTML.\n",
        "\n",
        "**Vantagens:** O código fica super organizado e fácil de gerenciar. Você pode aplicar o mesmo estilo a várias páginas, fazendo uma alteração em apenas um arquivo.\n",
        "**Desvantagens:** É necessário criar um arquivo extra e vinculá-lo."
      ]
    },
    {
      "cell_type": "code",
      "execution_count": 118,
      "metadata": {},
      "outputs": [
        {
          "data": {
            "text/html": [
              "\n",
              "<!DOCTYPE html>\n",
              "<html lang=\"pt-br\">\n",
              "<head>\n",
              "    <meta charset=\"UTF-8\">\n",
              "    <meta name=\"viewport\" content=\"width=device-width, initial-scale=1.0\">\n",
              "    <title>Minha Página</title>\n",
              "    <link rel=\"stylesheet\" href=\"style.css\">\n",
              "</head>\n",
              "<body>\n",
              "    <h1>Olá, Mundo!</h1>\n",
              "</body>\n",
              "</html>\n",
              "\n",
              "\n",
              "```css\n",
              "h1 {\n",
              "    color: orange;\n",
              "    font-size: 24px;\n",
              "}\n",
              "```\n"
            ],
            "text/plain": [
              "<IPython.core.display.HTML object>"
            ]
          },
          "metadata": {},
          "output_type": "display_data"
        }
      ],
      "source": [
        "%%html\n",
        "\n",
        "<!DOCTYPE html>\n",
        "<html lang=\"pt-br\">\n",
        "<head>\n",
        "    <meta charset=\"UTF-8\">\n",
        "    <meta name=\"viewport\" content=\"width=device-width, initial-scale=1.0\">\n",
        "    <title>Minha Página</title>\n",
        "    <link rel=\"stylesheet\" href=\"style.css\">\n",
        "</head>\n",
        "<body>\n",
        "    <h1>Olá, Mundo!</h1>\n",
        "</body>\n",
        "</html>\n",
        "\n",
        "\n",
        "```css\n",
        "h1 {\n",
        "    color: orange;\n",
        "    font-size: 24px;\n",
        "}\n",
        "```"
      ]
    },
    {
      "cell_type": "markdown",
      "metadata": {},
      "source": [
        "### Melhorando o visual da sua página\n",
        "\n",
        "Vamos começar com um botão simples:"
      ]
    },
    {
      "cell_type": "code",
      "execution_count": 119,
      "metadata": {},
      "outputs": [
        {
          "data": {
            "text/html": [
              "<button>Enviar</button>\n"
            ],
            "text/plain": [
              "<IPython.core.display.HTML object>"
            ]
          },
          "metadata": {},
          "output_type": "display_data"
        }
      ],
      "source": [
        "%%html\n",
        "<button>Enviar</button>"
      ]
    },
    {
      "cell_type": "markdown",
      "metadata": {},
      "source": [
        "Agora, no seu arquivo `.css`, adicione os seguintes comandos. Tente um de cada vez para ver o que acontece:\n",
        "\n",
        "* **`background-color`**: para mudar a cor de fundo do botão.\n",
        "    ```css\n",
        "    button {\n",
        "        background-color: #4CAF50; /* Um tom de verde */\n",
        "    }\n",
        "    ```\n",
        "\n",
        "* **`color`**: para mudar a cor do texto do botão.\n",
        "    ```css\n",
        "    button {\n",
        "        color: white;\n",
        "    }\n",
        "    ```\n",
        "\n",
        "* **`border-radius`**: para arredondar os cantos.\n",
        "    ```css\n",
        "    button {\n",
        "        border-radius: 8px; /* Cantos arredondados */\n",
        "    }\n",
        "    ```\n",
        "\n",
        "* **`padding`**: para aumentar o espaço interno do botão.\n",
        "    ```css\n",
        "    button {\n",
        "        padding: 15px 32px;\n",
        "    }\n",
        "    ```\n",
        "\n",
        "* **`:hover`**: para criar um efeito quando o mouse passa por cima do botão. Isso é super importante para a experiência do usuário! (UI - interface)\n",
        "    ```css\n",
        "    button:hover {\n",
        "        background-color: #45a049; /* Um verde um pouco mais escuro */\n",
        "    }\n",
        "    ```\n",
        "\n",
        "Sinta-se à vontade para explorar mais comandos: https://www.w3schools.com/css/"
      ]
    },
    {
      "cell_type": "markdown",
      "metadata": {},
      "source": [
        "### Adicionando multimídia à sua página\n",
        "\n",
        "#### Áudio e Vídeo\n",
        "\n",
        "Você pode inserir áudio e vídeo usando as tags `<audio>` e `<video>`."
      ]
    },
    {
      "cell_type": "code",
      "execution_count": 120,
      "metadata": {},
      "outputs": [
        {
          "data": {
            "text/html": [
              "\n",
              "<audio controls>\n",
              "  <source src=\"..\\static\\audio\\9632183-uhd_4096_2160_24fps.mp3\" type=\"audio/mpeg\">\n",
              "  Seu navegador não suporta o elemento de áudio.\n",
              "</audio>\n",
              "\n",
              "\n",
              "<video width=\"320\" height=\"240\" controls>\n",
              "  <source src=\"..\\static\\video\\9632183-uhd_4096_2160_24fps.mp4\" type=\"video/mp4\">\n",
              "  Seu navegador não suporta o elemento de vídeo.\n",
              "</video>\n"
            ],
            "text/plain": [
              "<IPython.core.display.HTML object>"
            ]
          },
          "metadata": {},
          "output_type": "display_data"
        }
      ],
      "source": [
        "%%html\n",
        "\n",
        "<audio controls>\n",
        "  <source src=\"..\\static\\audio\\9632183-uhd_4096_2160_24fps.mp3\" type=\"audio/mpeg\">\n",
        "  Seu navegador não suporta o elemento de áudio.\n",
        "</audio>\n",
        "\n",
        "\n",
        "<video width=\"320\" height=\"240\" controls>\n",
        "  <source src=\"..\\static\\video\\9632183-uhd_4096_2160_24fps.mp4\" type=\"video/mp4\">\n",
        "  Seu navegador não suporta o elemento de vídeo.\n",
        "</video>"
      ]
    },
    {
      "cell_type": "markdown",
      "metadata": {},
      "source": [
        "Para encontrar mídias (áudio e vídeo) sem direitos autorais para seu projeto:\n",
        "\n",
        "### Para Vídeos\n",
        "* **Pexels**: [https://www.pexels.com/pt-br/videos/](https://www.pexels.com/pt-br/videos/)\n",
        "* **Pixabay**: [https://pixabay.com/pt/videos/](https://pixabay.com/pt/videos/)\n",
        "* **Coverr**: [https://coverr.co/](https://coverr.co/)\n",
        "\n",
        "### Para Áudios e Músicas\n",
        "* **Biblioteca de Áudio do YouTube**: [https://www.youtube.com/audiolibrary/music](https://www.youtube.com/audiolibrary/music)\n",
        "* **Freesound**: [https://freesound.org/](https://freesound.org/)\n",
        "* **Bensound**: [https://www.bensound.com/](https://www.bensound.com/)\n",
        "\n",
        "**Lembre-se:** Sempre verifique a licença de cada arquivo para garantir que pode usá-lo sem a necessidade de dar créditos."
      ]
    },
    {
      "cell_type": "markdown",
      "metadata": {},
      "source": [
        "#### Mapas\n",
        "\n",
        "Para inserir um mapa do [Google Maps](https://maps.google.com/), pesquise um local, clique em \"Compartilhar\", depois em \"Incorporar um mapa\" e copie o código `<iframe>`."
      ]
    },
    {
      "cell_type": "markdown",
      "metadata": {},
      "source": [
        "### Criando Links com a Tag `<a>`\n",
        "\n",
        "A tag `<a>` (de \"anchor\") é usada para criar links que levam a outras páginas ou seções. O atributo `href` define o destino do link."
      ]
    },
    {
      "cell_type": "code",
      "execution_count": 121,
      "metadata": {},
      "outputs": [
        {
          "data": {
            "text/html": [
              "<a href=\"https://www.google.com\">Ir para o Google</a>\n"
            ],
            "text/plain": [
              "<IPython.core.display.HTML object>"
            ]
          },
          "metadata": {},
          "output_type": "display_data"
        }
      ],
      "source": [
        "%%html\n",
        "<a href=\"https://www.google.com\">Ir para o Google</a>"
      ]
    },
    {
      "cell_type": "markdown",
      "metadata": {},
      "source": [
        "### De Volta ao Projeto JWC\n",
        "\n",
        "Agora que você aprendeu e praticou esses conceitos, é hora de aplicá-los no projeto da empresa JWC. Analise a home page que foi criada na aula anterior e adicione os seguintes elementos:\n",
        "\n",
        "* Um botão com um visual profissional.\n",
        "* Um vídeo temático.\n",
        "* Um mapa mostrando a localização da empresa/organização.\n",
        "* Pelo menos um link para uma outra página ou para uma seção interna da sua home page."
      ]
    }
  ],
  "metadata": {
    "kernelspec": {
      "display_name": "Python 3",
      "language": "python",
      "name": "python3"
    },
    "language_info": {
      "codemirror_mode": {
        "name": "ipython",
        "version": 3
      },
      "file_extension": ".py",
      "mimetype": "text/x-python",
      "name": "python",
      "nbconvert_exporter": "python",
      "pygments_lexer": "ipython3",
      "version": "3.12.0"
    }
  },
  "nbformat": 4,
  "nbformat_minor": 2
}
