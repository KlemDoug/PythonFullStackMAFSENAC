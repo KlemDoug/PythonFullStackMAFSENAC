{
  "cells": [
    {
      "cell_type": "markdown",
      "id": "a7fcb102",
      "metadata": {},
      "source": [
        "## Aula 02: HTML e CSS\n",
        "\n",
        "### Inserindo Imagens: Boas Práticas e Acessibilidade\n",
        "\n",
        "Hoje utilizaremos a tag `<img>` no HTML. Além disso, vamos focar em algumas boas práticas que todo desenvolvedor deve saber.\n",
        "\n",
        "* O atributo **`src`** serve para indicar o caminho da imagem.\n",
        "* O atributo **`alt`** é para a acessibilidade. Ele descreve o conteúdo da imagem para pessoas com deficiência visual que usam leitores de tela. Ele também aparece se a imagem não carregar.\n",
        "* Você define as dimensões da imagem usando os atributos **`width`** e **`height`** diretamente no HTML."
      ]
    },
    {
      "cell_type": "code",
      "execution_count": null,
      "id": "ebae77b4",
      "metadata": {},
      "outputs": [],
      "source": [
        "%%html\n",
        "<img src=\"static\\img\\bulbassauro.png\" alt=\"Descrição da imagem\" width=\"500\" height=\"800\">"
      ]
    },
    {
      "cell_type": "markdown",
      "id": "80236c7d",
      "metadata": {},
      "source": [
        "Para praticar, você pode usar imagens de sites como [Pexels](https://www.pexels.com/pt-br/) e [Unsplash](https://unsplash.com/pt-br/), que oferecem fotos gratuitas e de alta qualidade. Precisamos sempre lembrar sobre a importância de respeitar os **direitos autorais** das imagens que você encontrar na internet."
      ]
    },
    {
      "cell_type": "markdown",
      "id": "a30a5a7e",
      "metadata": {},
      "source": [
        "### Introdução ao CSS: O Estilo da sua Página\n",
        "\n",
        "Agora que você já sabe a estrutura, é hora de dar estilo à sua página! O **CSS** (Cascading Style Sheets) é a linguagem que faz isso, mudando a aparência dos seus textos, cores e outros elementos.\n",
        "\n",
        "* Vamos aprender a usar o CSS de três formas:\n",
        "\n",
        "    1.  **Inline:** direto na tag HTML."
      ]
    },
    {
      "cell_type": "code",
      "execution_count": 53,
      "id": "d1a2aa1e",
      "metadata": {},
      "outputs": [
        {
          "data": {
            "text/html": [
              "<p style=\"color: blue; font-size: 20px;\">Este é um parágrafo azul e grande.</p>\n"
            ],
            "text/plain": [
              "<IPython.core.display.HTML object>"
            ]
          },
          "metadata": {},
          "output_type": "display_data"
        }
      ],
      "source": [
        "%%html\n",
        "<p style=\"color: blue; font-size: 20px;\">Este é um parágrafo azul e grande.</p>"
      ]
    },
    {
      "cell_type": "markdown",
      "id": "3a158fb9",
      "metadata": {},
      "source": [
        "2.  **Interno:** dentro do próprio arquivo HTML."
      ]
    },
    {
      "cell_type": "code",
      "execution_count": null,
      "id": "c0b5ff51",
      "metadata": {},
      "outputs": [],
      "source": [
        "%%html\n",
        "<head>\n",
        "  <style>\n",
        "    h1 {\n",
        "      color: purple;\n",
        "    }\n",
        "  </style>\n",
        "</head>"
      ]
    },
    {
      "cell_type": "markdown",
      "id": "3969c209",
      "metadata": {},
      "source": [
        "3.  **Externo:** em um arquivo separado, que é a forma mais organizada e profissional."
      ]
    },
    {
      "cell_type": "code",
      "execution_count": null,
      "id": "37a1d1e1",
      "metadata": {},
      "outputs": [],
      "source": [
        "%%html\n",
        "<head>\n",
        "  <link rel=\"stylesheet\" href=\"style.css\">\n",
        "</head>"
      ]
    },
    {
      "cell_type": "markdown",
      "id": "ceb92dcf",
      "metadata": {},
      "source": [
        "* Você vai começar a usar as primeiras propriedades do CSS, como **`color`** (para a cor da fonte), **`background-color`** (para a cor de fundo), **`border`** (para criar bordas) e **`font-family`** (para o tipo de fonte)."
      ]
    },
    {
      "cell_type": "code",
      "execution_count": null,
      "id": "d869b755",
      "metadata": {},
      "outputs": [],
      "source": [
        "%%html\n",
        "<style>\n",
        "  /* Exemplo de CSS */\n",
        "  body {\n",
        "    background-color: #f0f0f0;\n",
        "  }\n",
        "\n",
        "  h1 {\n",
        "    color: #333;\n",
        "    font-family: Arial, sans-serif;\n",
        "    border-bottom: 2px solid #ccc;\n",
        "  }\n",
        "\n",
        "  p {\n",
        "    font-size: 16px;\n",
        "  }\n",
        "</style>"
      ]
    },
    {
      "cell_type": "markdown",
      "id": "c76029f1",
      "metadata": {},
      "source": [
        "### Atividade Prática: O Site da Empresa JWC\n",
        "\n",
        "A empresa **JWC** te contratou para criar um site para um de seus clientes. Você vai poder escolher o tema que mais gosta, como: loja de games, de celular, de smartwatch, camisetas, academia etc\n",
        "\n",
        "Seu projeto deve incluir:\n",
        "* A estrutura HTML básica com títulos e parágrafos.\n",
        "* A inserção de pelo menos uma imagem, usando os atributos **`alt`** e **`width`**.\n",
        "* A estilização com CSS, aplicando cores, fontes e bordas."
      ]
    }
  ],
  "metadata": {
    "kernelspec": {
      "display_name": "Python 3",
      "language": "python",
      "name": "python3"
    },
    "language_info": {
      "codemirror_mode": {
        "name": "ipython",
        "version": 3
      },
      "file_extension": ".py",
      "mimetype": "text/x-python",
      "name": "python",
      "nbconvert_exporter": "python",
      "pygments_lexer": "ipython3",
      "version": "3.11.4"
    }
  },
  "nbformat": 4,
  "nbformat_minor": 5
}
