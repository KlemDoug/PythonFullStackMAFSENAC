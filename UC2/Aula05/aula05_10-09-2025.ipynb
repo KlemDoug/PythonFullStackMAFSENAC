{
  "cells": [
    {
      "cell_type": "markdown",
      "metadata": {
        "tags": [
          "markdown"
        ]
      },
      "source": [
        "# Aula 05: Formulários e Interação com o Usuário\n",
        "\n",
        "Formulários são essenciais para interagir com os usuários em uma página web. Você aprenderá a construir uma página de cadastro, focando em usabilidade e acessibilidade."
      ]
    },
    {
      "cell_type": "markdown",
      "metadata": {
        "tags": [
          "markdown"
        ]
      },
      "source": [
        "## Introdução aos Formulários\n",
        "Antes de começar, vamos diferenciar os métodos de envio de dados **GET** e **POST**.\n",
        "\n",
        "- **Método GET:** Usado para solicitar dados de um servidor. Ele anexa os dados do formulário à URL, tornando-os visíveis na barra de endereço. É útil para buscas ou links que precisam ser compartilhados.\n",
        "- **Método POST:** Usado para enviar dados a um servidor para que sejam processados (como salvar um novo usuário ou enviar uma mensagem). Os dados não ficam visíveis na URL, o que o torna mais seguro para informações sensíveis, como senhas."
      ]
    },
    {
      "cell_type": "markdown",
      "metadata": {
        "tags": [
          "markdown"
        ]
      },
      "source": [
        "## Página de Cadastro de uma Loja de Tênis\n"
      ]
    },
    {
      "cell_type": "markdown",
      "metadata": {
        "tags": [
          "markdown"
        ]
      },
      "source": [
        "### Estrutura Básica do Formulário\n",
        "O formulário é criado usando a tag `<form>`. Dentro dela, podemos definir atributos importantes:\n",
        "\n",
        "- `action`: Define a URL para onde os dados serão enviados.\n",
        "- `method`: Especifica o método de envio (`GET` ou `POST`).\n",
        "- `target`: Onde a resposta do servidor será exibida (ex: `_blank` para abrir em uma nova aba).\n",
        "- `enctype`: Como os dados serão codificados. É importante para o envio de arquivos."
      ]
    },
    {
      "cell_type": "code",
      "execution_count": null,
      "metadata": {
        "tags": [
          "html"
        ]
      },
      "outputs": [],
      "source": [
        "%%html\n",
        "\n",
        "<form action=\"/cadastro-processado\" method=\"post\" target=\"_blank\">\n",
        "  \n",
        "</form>"
      ]
    },
    {
      "cell_type": "markdown",
      "metadata": {
        "tags": [
          "markdown"
        ]
      },
      "source": [
        "### Elementos do Formulário\n",
        "Conheça os principais elementos que você vai usar:\n",
        "\n",
        "- `<label>`: A etiqueta que descreve um campo. Crucial para a acessibilidade. O atributo `for` do `<label>` deve corresponder ao `id` do `<input>` a que se refere.\n",
        "- `<input>`: A tag mais versátil para a coleta de dados. Seu atributo `type` define o tipo de dado que ele aceita (ex: `text`, `email`, `number`, `tel`).\n",
        "- `<button>`: Usado para criar botões que disparam ações, como enviar o formulário (`type=\"submit\"`)."
      ]
    },
    {
      "cell_type": "markdown",
      "metadata": {
        "tags": [
          "markdown"
        ]
      },
      "source": [
        "### Propriedades Essenciais dos Elementos\n",
        "Para que os formulários funcionem bem e sejam acessíveis, é vital usar as seguintes propriedades:\n",
        "\n",
        "- `name`: Identifica o campo quando os dados são enviados.\n",
        "- `id`: Identificador único do elemento na página.\n",
        "- `placeholder`: Texto que aparece dentro do campo para dar uma dica.\n",
        "- `pattern`: Define uma expressão regular para validar a entrada de dados.\n",
        "- `title`: Texto exibido como dica para o usuário.\n",
        "- `value`: Define um valor inicial para o campo.\n",
        "- `required`: Faz com que o campo seja obrigatório.\n",
        "- `readonly`: Impede que o usuário altere o valor do campo."
      ]
    },
    {
      "cell_type": "code",
      "execution_count": null,
      "metadata": {
        "tags": [
          "html"
        ]
      },
      "outputs": [],
      "source": [
        "%%html\n",
        "\n",
        "<label for=\"email-cadastro\">E-mail:</label>\n",
        "<input\n",
        "  type=\"email\"\n",
        "  id=\"email-cadastro\"\n",
        "  name=\"email\"\n",
        "  placeholder=\"seu.email@exemplo.com\"\n",
        "  required\n",
        "/>\n",
        "\n",
        "<label for=\"telefone\">Telefone:</label>\n",
        "<input\n",
        "  type=\"tel\"\n",
        "  id=\"telefone\"\n",
        "  name=\"telefone\"\n",
        "  placeholder=\"(99) 99999-9999\"\n",
        "  pattern=\"[0-9]{2} [0-9]{5}-[0-9]{4}\"\n",
        "  title=\"Formato: (99) 99999-9999\"\n",
        "/>\n",
        "\n",
        "<button type=\"submit\">Cadastrar</button>"
      ]
    },
    {
      "cell_type": "markdown",
      "metadata": {
        "tags": [
          "markdown"
        ]
      },
      "source": [
        "## Relembrando JavaScript...\n",
        "...para tornar o formulário mais dinâmico!"
      ]
    },
    {
      "cell_type": "markdown",
      "metadata": {
        "tags": [
          "markdown"
        ]
      },
      "source": [
        "### `alert` e Eventos de Input\n",
        "- `alert()`: usada para exibir uma caixa de diálogo com uma mensagem.\n",
        "- **Eventos de Input**: execute código em resposta a ações do usuário. O evento `oninput` é disparado sempre que o valor de um campo de formulário muda."
      ]
    },
    {
      "cell_type": "code",
      "execution_count": null,
      "metadata": {
        "tags": [
          "html",
          "javascript"
        ]
      },
      "outputs": [],
      "source": [
        "%%html\n",
        "\n",
        "<input\n",
        "  type=\"text\"\n",
        "  id=\"nome-usuario\"\n",
        "  name=\"nome\"\n",
        "  oninput=\"exibirAlerta()\"\n",
        "/>\n",
        "\n",
        "<script>\n",
        "  function exibirAlerta() {\n",
        "    alert(\"Você começou a digitar!\");\n",
        "  }\n",
        "</script>"
      ]
    },
    {
      "cell_type": "markdown",
      "metadata": {
        "tags": [
          "markdown"
        ]
      },
      "source": [
        "### Convertendo Dados com `parseInt()` e `parseFloat()`\n",
        "Os dados recebidos de um formulário são tratados como **strings**. Para realizar cálculos, você precisa convertê-los em números.\n",
        "\n",
        "- `parseInt()`: Converte uma string em um número **inteiro**.\n",
        "- `parseFloat()`: Converte uma string em um número com **casas decimais**.\n",
        "\n",
        "**Atenção:** É importante usar esses métodos para evitar erros em cálculos."
      ]
    },
    {
      "cell_type": "code",
      "execution_count": null,
      "metadata": {
        "tags": [
          "html",
          "javascript"
        ]
      },
      "outputs": [],
      "source": [
        "%%html\n",
        "\n",
        "<label for=\"quantidade\">Quantidade:</label>\n",
        "<input type=\"number\" id=\"quantidade\" name=\"quantidade\" oninput=\"calcularTotal()\" />\n",
        "\n",
        "<script>\n",
        "  function calcularTotal() {\n",
        "    const preco = 50.75;\n",
        "    const quantidadeString = document.getElementById(\"quantidade\").value;\n",
        "    const quantidadeNumero = parseFloat(quantidadeString);\n",
        "\n",
        "    if (!isNaN(quantidadeNumero)) {\n",
        "      const total = preco * quantidadeNumero;\n",
        "      alert(`O valor total é R$ ${total.toFixed(2)}`);\n",
        "    }\n",
        "  }\n",
        "</script>"
      ]
    },
    {
      "cell_type": "markdown",
      "metadata": {
        "tags": [
          "markdown"
        ]
      },
      "source": [
        "\n",
        "## Tarefa Prática\n",
        "Sua tarefa é criar a página de cadastro/contato para a loja de tênis JWC, utilizando todos os elementos e propriedades que você aprendeu nesta aula. O formulário deve ser funcional no front-end e considerar os princípios de usabilidade e acessibilidade."
      ]
    }
  ],
  "metadata": {
    "kernelspec": {
      "display_name": "Web",
      "language": "web",
      "name": "web"
    },
    "language_info": {
      "name": "web"
    },
    "orig_nbformat": 4
  },
  "nbformat": 4,
  "nbformat_minor": 2
}
