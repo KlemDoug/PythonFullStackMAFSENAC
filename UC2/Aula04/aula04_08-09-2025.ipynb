{
  "cells": [
    {
      "cell_type": "markdown",
      "id": "a604bf3e",
      "metadata": {},
      "source": [
        "# Aula 04: Tabela de Preços e Classes CSS\n",
        "\n",
        "Agora, iremos focar na criação e estilização de tabelas, um recurso essencial para organizar informações em qualquer site. Além de estruturar dados, você aprenderá a usar as **classes CSS**, preparando o terreno para o uso do **Bootstrap**."
      ]
    },
    {
      "cell_type": "markdown",
      "id": "b3029862",
      "metadata": {},
      "source": [
        "### 1. Criando sua Tabela de Preços\n",
        "\n",
        "Vamos começar com a estrutura da nossa tabela: o segredo está em entender a hierarquia das tags.\n",
        "\n",
        "* **`<table>`**: É o \"container\" principal que engloba toda a tabela.\n",
        "* **`<thead>`**: Aqui vai o cabeçalho da sua tabela, como os títulos das colunas.\n",
        "* **`<tbody>`**: É o corpo da tabela, onde você insere os dados.\n",
        "\n",
        "Dentro dessas seções, você usa:\n",
        "\n",
        "* **`<tr>`**: Para criar uma nova **linha** na tabela (de *table row*).\n",
        "* **`<th>`**: Para criar uma célula de **cabeçalho** (de *table header*). Use-a dentro do `<thead>`.\n",
        "* **`<td>`**: Para criar uma célula de **dados** (de *table data*). Use-a dentro do `<tbody>`."
      ]
    },
    {
      "cell_type": "markdown",
      "id": "ffa514f1",
      "metadata": {},
      "source": [
        "#### HTML:\n",
        "\n",
        "Abra seu arquivo `index.html` e insira este código para criar uma tabela simples de preços de tênis:"
      ]
    },
    {
      "cell_type": "code",
      "execution_count": null,
      "id": "415ed8e7",
      "metadata": {
        "tags": [
          "html"
        ]
      },
      "outputs": [],
      "source": [
        "<h2>Tabela de Preços</h2>\n",
        "<table>\n",
        "    <thead>\n",
        "        <tr>\n",
        "            <th>Modelo</th>\n",
        "            <th>Cor</th>\n",
        "            <th>Preço</th>\n",
        "        </tr>\n",
        "    </thead>\n",
        "    <tbody>\n",
        "        <tr>\n",
        "            <td>Air Max</td>\n",
        "            <td>Preto</td>\n",
        "            <td>R$ 450,00</td>\n",
        "        </tr>\n",
        "        <tr>\n",
        "            <td>Adidas Stan Smith</td>\n",
        "            <td>Branco</td>\n",
        "            <td>R$ 380,00</td>\n",
        "        </tr>\n",
        "    </tbody>\n",
        "</table>"
      ]
    },
    {
      "cell_type": "markdown",
      "id": "7c82ff85",
      "metadata": {},
      "source": [
        "### 2. Mesclando Células para um Layout Avançado\n",
        "\n",
        "Às vezes, uma célula precisa se estender por mais de uma coluna ou linha. Para isso, usamos os atributos `colspan` (mesclar colunas) e `rowspan` (mesclar linhas)."
      ]
    },
    {
      "cell_type": "markdown",
      "id": "0e8f5519",
      "metadata": {},
      "source": [
        "#### Código com Células Mescladas:\n",
        "\n",
        "Veja como a tabela abaixo usa `colspan` e `rowspan` para organizar informações mais complexas:"
      ]
    },
    {
      "cell_type": "code",
      "execution_count": null,
      "id": "8b3022d7",
      "metadata": {
        "tags": [
          "html"
        ]
      },
      "outputs": [],
      "source": [
        "<h2>Detalhes e Preços</h2>\n",
        "<table>\n",
        "    <thead>\n",
        "        <tr>\n",
        "            <th>Modelo</th>\n",
        "            <th colspan=\"2\">Informações</th> \n",
        "            <th>Preço</th>\n",
        "        </tr>\n",
        "    </thead>\n",
        "    <tbody>\n",
        "        <tr>\n",
        "            <td>Converse All Star</td>\n",
        "            <td>Tamanho</td>\n",
        "            <td>38-42</td>\n",
        "            <td>R$ 250,00</td>\n",
        "        </tr>\n",
        "        <tr>\n",
        "            <td rowspan=\"2\">Nike Blazer</td> \n",
        "            <td>Cor</td>\n",
        "            <td>Branco/Azul</td>\n",
        "            <td>R$ 410,00</td>\n",
        "        </tr>\n",
        "        <tr>\n",
        "            <td>Estoque</td>\n",
        "            <td>Disponível</td>\n",
        "            <td>R$ 410,00</td>\n",
        "        </tr>\n",
        "    </tbody>\n",
        "</table>"
      ]
    },
    {
      "cell_type": "markdown",
      "id": "18847df5",
      "metadata": {},
      "source": [
        "### 3. Estilizando com Classes CSS\n",
        "\n",
        "Ao invés de estilizar cada elemento separadamente, usaremos **classes CSS**. Uma classe é como um \"rótulo\" que você pode dar a qualquer elemento HTML. A grande vantagem é que você pode reutilizar a mesma classe em vários elementos."
      ]
    },
    {
      "cell_type": "markdown",
      "id": "a5390f9b",
      "metadata": {},
      "source": [
        "#### Passo 1: Estrutura\n",
        "\n",
        "Abra o seu arquivo `style.css` e adicione a seguinte classe utilizada abaixo. Note o uso do ponto (`.`) antes do nome da classe:"
      ]
    },
    {
      "cell_type": "code",
      "execution_count": null,
      "id": "c64aa3f7",
      "metadata": {
        "tags": [
          "css"
        ]
      },
      "outputs": [],
      "source": [
        "/* Estilos gerais da tabela */\n",
        ".tabela-precos {\n",
        "    width: 80%;\n",
        "    border-collapse: collapse; /* Remove o espaço entre as bordas */\n",
        "    margin: 20px auto;\n",
        "    font-family: Arial, sans-serif;\n",
        "}\n",
        "\n",
        "/* Estilo para o cabeçalho */\n",
        ".tabela-precos th {\n",
        "    background-color: #333;\n",
        "    color: #fff;\n",
        "    padding: 10px;\n",
        "    text-align: left;\n",
        "}\n",
        "\n",
        "/* Estilo para as linhas pares e ímpares */\n",
        ".tabela-precos tr:nth-child(even) {\n",
        "    background-color: #f2f2f2;\n",
        "}\n",
        "\n",
        "/* Estilo para as células de dados */\n",
        ".tabela-precos td {\n",
        "    border: 1px solid #ddd;\n",
        "    padding: 8px;\n",
        "}"
      ]
    },
    {
      "cell_type": "markdown",
      "id": "2985562c",
      "metadata": {},
      "source": [
        "#### Passo 2: Aplique a Classe no seu HTML\n",
        "\n",
        "Agora, adicione o atributo `class=\"tabela-precos\"` na sua tag `<table>` para que todos os estilos que você criou sejam aplicados a ela:"
      ]
    },
    {
      "cell_type": "code",
      "execution_count": null,
      "id": "27962a3c",
      "metadata": {
        "tags": [
          "html"
        ]
      },
      "outputs": [],
      "source": [
        "\n",
        "<table class=\"tabela-precos\">\n",
        "    <thead>\n",
        "        \n",
        "    </thead>\n",
        "    <tbody>\n",
        "        \n",
        "    </tbody>\n",
        "</table>"
      ]
    },
    {
      "cell_type": "markdown",
      "id": "262e9583",
      "metadata": {},
      "source": [
        "### 4. Atividade: Insira a Tabela no seu Projeto JWC\n",
        "\n",
        "1.  Abra o seu projeto do site da empresa JWC.\n",
        "2.  Crie uma nova seção ou página para inserir uma tabela de produtos, preços ou qualquer informação relevante.\n",
        "3.  Use as tags que você aprendeu: `<table>`, `<tr>`, `<td>`, `<th>`.\n",
        "4.  Seja criativo e aplique a mesclagem de células (`colspan` e `rowspan`) se fizer sentido para o seu layout.\n",
        "5.  **Crie sua própria classe CSS** para estilizar a tabela.\n",
        "\n"
      ]
    }
  ],
  "metadata": {
    "kernelspec": {
      "display_name": "JS/TS",
      "language": "typescript",
      "name": "typescript"
    },
    "language_info": {
      "name": "typescript",
      "version": "4.6.3"
    }
  },
  "nbformat": 4,
  "nbformat_minor": 5
}
